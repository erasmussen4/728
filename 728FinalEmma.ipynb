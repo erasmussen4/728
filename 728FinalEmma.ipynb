{
 "cells": [
  {
   "cell_type": "code",
   "execution_count": null,
   "metadata": {},
   "outputs": [],
   "source": [
    "## Emma's version of the code for the 728 Project"
   ]
  },
  {
   "cell_type": "code",
   "execution_count": null,
   "metadata": {},
   "outputs": [],
   "source": [
    "#Reaction data \n",
    "\n",
    "def lambdas(num):\n",
    "    a, b, c = rates[num]\n",
    "    return a*10**10 * T9**b * np.exp(c*T**(-1))\n",
    "\n",
    "\n",
    "rates = (0, (.468, 3/2, -25.82),(1.63, 3/2, -63.75),(1.63, 3/2, -72.62),(1*10**(-9), 0, -8.864),(2.59, 3/2, -229.9),\n",
    "(2.60, 3/2, -238.8), (1.73, 0, -37.94), (1.73, 0, -46.80), (4.50, 3/2, -276.7), (5.5, 0, -213.0), (5.5, 0, -204.1),\n",
    "(3.37, 3/2, -149.2), (3.37, 3/2, -131.5), (3.37, 3/2, -140.4), (1.59, 0, -166.2), (1.12, 3/2, -18.42), \n",
    "(1.12, 3/2, -28.63), (1*10**(-9), 0, -19.07), 0, (4.64, 0, -201.3), (4.64, 0, -220.4))\n"
   ]
  },
  {
   "cell_type": "code",
   "execution_count": 17,
   "metadata": {},
   "outputs": [
    {
     "data": {
      "text/plain": [
       "(4.68, 1.5, -25.82)"
      ]
     },
     "execution_count": 17,
     "metadata": {},
     "output_type": "execute_result"
    }
   ],
   "source": [
    "lambdas(1)"
   ]
  },
  {
   "cell_type": "code",
   "execution_count": null,
   "metadata": {},
   "outputs": [],
   "source": []
  }
 ],
 "metadata": {
  "kernelspec": {
   "display_name": "base",
   "language": "python",
   "name": "python3"
  },
  "language_info": {
   "codemirror_mode": {
    "name": "ipython",
    "version": 3
   },
   "file_extension": ".py",
   "mimetype": "text/x-python",
   "name": "python",
   "nbconvert_exporter": "python",
   "pygments_lexer": "ipython3",
   "version": "3.8.5"
  }
 },
 "nbformat": 4,
 "nbformat_minor": 2
}
